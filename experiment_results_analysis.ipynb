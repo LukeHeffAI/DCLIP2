{
 "cells": [
  {
   "cell_type": "code",
   "execution_count": null,
   "metadata": {},
   "outputs": [],
   "source": [
    "import json\n",
    "\n",
    "with open('results/experiment_results.json') as f:\n",
    "    results_data = json.load(f)\n",
    "\n",
    "# Experimental variables\n",
    "cut_proportions = []\n",
    "datasets = []\n",
    "similarity_penalty_configs = []\n",
    "frequency_penalty_configs = []\n",
    "\n",
    "# Results\n",
    "for cut_proportion in cut_proportions:\n",
    "    for dataset_name in datasets:\n",
    "        for similarity_penalty_config in similarity_penalty_configs:\n",
    "            for frequency_penalty_config in frequency_penalty_configs:\n",
    "                results_data[cut_proportion][dataset_name][similarity_penalty_config][frequency_penalty_config]"
   ]
  }
 ],
 "metadata": {
  "language_info": {
   "name": "python"
  }
 },
 "nbformat": 4,
 "nbformat_minor": 2
}
