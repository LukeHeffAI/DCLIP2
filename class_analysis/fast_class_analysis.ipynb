{
 "cells": [
  {
   "cell_type": "code",
   "execution_count": 2,
   "metadata": {},
   "outputs": [
    {
     "ename": "FileNotFoundError",
     "evalue": "[Errno 2] No such file or directory: 'class_analysis/json/class_analysis_cub.json'",
     "output_type": "error",
     "traceback": [
      "\u001b[0;31m---------------------------------------------------------------------------\u001b[0m",
      "\u001b[0;31mFileNotFoundError\u001b[0m                         Traceback (most recent call last)",
      "Cell \u001b[0;32mIn[2], line 5\u001b[0m\n\u001b[1;32m      2\u001b[0m \u001b[38;5;28;01mimport\u001b[39;00m \u001b[38;5;21;01mnumpy\u001b[39;00m \u001b[38;5;28;01mas\u001b[39;00m \u001b[38;5;21;01mnp\u001b[39;00m\n\u001b[1;32m      3\u001b[0m \u001b[38;5;28;01mimport\u001b[39;00m \u001b[38;5;21;01mjson\u001b[39;00m\n\u001b[0;32m----> 5\u001b[0m class_stats \u001b[38;5;241m=\u001b[39m load_json(\u001b[38;5;124m\"\u001b[39m\u001b[38;5;124mclass_analysis/json/class_analysis_cub.json\u001b[39m\u001b[38;5;124m\"\u001b[39m)\n\u001b[1;32m      6\u001b[0m descriptors \u001b[38;5;241m=\u001b[39m load_json(\u001b[38;5;124m\"\u001b[39m\u001b[38;5;124mdescriptors/descriptors_cub.json\u001b[39m\u001b[38;5;124m\"\u001b[39m)\n\u001b[1;32m      8\u001b[0m class_list_reassignment \u001b[38;5;241m=\u001b[39m compute_class_list(class_stats, \u001b[38;5;28;01mTrue\u001b[39;00m)\n",
      "File \u001b[0;32m~/Documents/GitHub/classify_audio_by_description/loading_helpers.py:12\u001b[0m, in \u001b[0;36mload_json\u001b[0;34m(filename)\u001b[0m\n\u001b[1;32m     10\u001b[0m \u001b[38;5;28;01mif\u001b[39;00m \u001b[38;5;129;01mnot\u001b[39;00m filename\u001b[38;5;241m.\u001b[39mendswith(\u001b[38;5;124m'\u001b[39m\u001b[38;5;124m.json\u001b[39m\u001b[38;5;124m'\u001b[39m):\n\u001b[1;32m     11\u001b[0m     filename \u001b[38;5;241m+\u001b[39m\u001b[38;5;241m=\u001b[39m \u001b[38;5;124m'\u001b[39m\u001b[38;5;124m.json\u001b[39m\u001b[38;5;124m'\u001b[39m\n\u001b[0;32m---> 12\u001b[0m \u001b[38;5;28;01mwith\u001b[39;00m \u001b[38;5;28mopen\u001b[39m(filename, \u001b[38;5;124m'\u001b[39m\u001b[38;5;124mr\u001b[39m\u001b[38;5;124m'\u001b[39m) \u001b[38;5;28;01mas\u001b[39;00m fp:\n\u001b[1;32m     13\u001b[0m     \u001b[38;5;28;01mreturn\u001b[39;00m json\u001b[38;5;241m.\u001b[39mload(fp)\n",
      "\u001b[0;31mFileNotFoundError\u001b[0m: [Errno 2] No such file or directory: 'class_analysis/json/class_analysis_cub.json'"
     ]
    }
   ],
   "source": [
    "from loading_helpers import load_json, compute_class_list, compute_descriptor_list\n",
    "import numpy as np\n",
    "import json\n",
    "\n",
    "class_stats = load_json(\"class_analysis/json/class_analysis_cub.json\")\n",
    "descriptors = load_json(\"descriptors/descriptors_cub.json\")\n",
    "\n",
    "class_list_reassignment = compute_class_list(class_stats, True)\n",
    "descriptor_list_reassignment = compute_descriptor_list(descriptors, True)\n",
    "\n",
    "descriptor_fitting = {}\n",
    "for class_name in class_list_reassignment:\n",
    "\n",
    "    descriptor_fitting[class_name] = []\n",
    "\n",
    "    cosine_similarity_vector = np.array(class_stats[class_name][\"cosine_similarity_vector\"])\n",
    "    top_similarity_indices = np.argsort(cosine_similarity_vector)[-5:]\n",
    "\n",
    "    for index in top_similarity_indices:\n",
    "        print(class_name, descriptor_list_reassignment[index])\n",
    "        descriptor_fitting[class_name].append(descriptor_list_reassignment[index])\n",
    "\n",
    "descriptors_original = load_json(\"descriptors/descriptors_cub.json\")\n",
    "\n",
    "descriptors_new = {}\n",
    "descriptors_new = {}\n",
    "\n",
    "for key in descriptors_original.keys():\n",
    "    key = key.replace(\"-\",\" \")\n",
    "    descriptors_new[key] = key\n",
    "\n",
    "    if key.replace(\"-\",\" \") in descriptor_fitting:\n",
    "        descriptors_new[key.replace(\"-\",\" \")] = descriptor_fitting[key]\n",
    "\n",
    "with open(\"descriptors/descriptors_cub_reassignment.json\", 'w') as file:\n",
    "    json.dump(descriptors_new, file, indent=4)"
   ]
  }
 ],
 "metadata": {
  "kernelspec": {
   "display_name": "base",
   "language": "python",
   "name": "python3"
  },
  "language_info": {
   "codemirror_mode": {
    "name": "ipython",
    "version": 3
   },
   "file_extension": ".py",
   "mimetype": "text/x-python",
   "name": "python",
   "nbconvert_exporter": "python",
   "pygments_lexer": "ipython3",
   "version": "3.11.8"
  }
 },
 "nbformat": 4,
 "nbformat_minor": 2
}
