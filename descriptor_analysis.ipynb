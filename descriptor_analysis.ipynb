{
 "cells": [
  {
   "cell_type": "markdown",
   "metadata": {},
   "source": [
    "## Create confusion matrices"
   ]
  },
  {
   "cell_type": "markdown",
   "metadata": {},
   "source": [
    "#### Create descriptor confusion matrix"
   ]
  },
  {
   "cell_type": "code",
   "execution_count": 2,
   "metadata": {},
   "outputs": [],
   "source": [
    "import tiktoken\n",
    "\n",
    "def tokenise_strings(strings):\n",
    "    tokeniser = tiktoken.get_encoding(\"cl100k_base\")\n",
    "\n",
    "    # Tokenise each string in the list\n",
    "    tokenised_strings = [tokeniser.encode(string) for string in strings]\n",
    "\n",
    "    return tokenised_strings\n",
    "\n",
    "def detokenise_tokens(tokenised_strings):\n",
    "    tokeniser = tiktoken.get_encoding(\"cl100k_base\")\n",
    "\n",
    "    detokenised_strings = [tokeniser.decode(tokens) for tokens in tokenised_strings]\n",
    "\n",
    "    return detokenised_strings\n"
   ]
  },
  {
   "cell_type": "code",
   "execution_count": 4,
   "metadata": {},
   "outputs": [
    {
     "ename": "KeyError",
     "evalue": "'average_cosine_similarity'",
     "output_type": "error",
     "traceback": [
      "\u001b[0;31m---------------------------------------------------------------------------\u001b[0m",
      "\u001b[0;31mKeyError\u001b[0m                                  Traceback (most recent call last)",
      "Cell \u001b[0;32mIn[4], line 19\u001b[0m\n\u001b[1;32m     16\u001b[0m blended_descriptor_confusion_matrix \u001b[38;5;241m=\u001b[39m np\u001b[38;5;241m.\u001b[39mzeros((\u001b[38;5;28mlen\u001b[39m(blended_descriptor_list), \u001b[38;5;28mlen\u001b[39m(blended_descriptor_list)))\n\u001b[1;32m     18\u001b[0m \u001b[38;5;28;01mfor\u001b[39;00m i, descriptor_name \u001b[38;5;129;01min\u001b[39;00m \u001b[38;5;28menumerate\u001b[39m(descriptor_list):\n\u001b[0;32m---> 19\u001b[0m     descriptor_confusion_matrix[i, :] \u001b[38;5;241m=\u001b[39m \u001b[43mdescriptor_data\u001b[49m\u001b[43m[\u001b[49m\u001b[43mdescriptor_name\u001b[49m\u001b[43m]\u001b[49m[\u001b[38;5;124m'\u001b[39m\u001b[38;5;124mcosine_similarity_vector\u001b[39m\u001b[38;5;124m'\u001b[39m]\n\u001b[1;32m     20\u001b[0m     tokenised_descriptor_confusion_matrix[i, :] \u001b[38;5;241m=\u001b[39m descriptor_data[descriptor_name][\u001b[38;5;124m'\u001b[39m\u001b[38;5;124mcosine_similarity_vector\u001b[39m\u001b[38;5;124m'\u001b[39m]\n\u001b[1;32m     21\u001b[0m     blended_descriptor_confusion_matrix[i, :] \u001b[38;5;241m=\u001b[39m descriptor_data[descriptor_name][\u001b[38;5;124m'\u001b[39m\u001b[38;5;124mcosine_similarity_vector\u001b[39m\u001b[38;5;124m'\u001b[39m]\n",
      "\u001b[0;31mKeyError\u001b[0m: 'average_cosine_similarity'"
     ]
    }
   ],
   "source": [
    "import numpy as np\n",
    "import pandas as pd\n",
    "\n",
    "from loading_helpers import load_json\n",
    "from load import compute_descriptor_list\n",
    "\n",
    "descriptor_data = load_json('descriptor_analysis/json/descriptor_self_similarity_cub.json')\n",
    "\n",
    "descriptor_list = compute_descriptor_list(descriptor_data, True)\n",
    "tokenised_descriptor_list = tokenise_strings(descriptor_list)\n",
    "tokenised_descriptor_list = [str(token_list) for token_list in tokenised_descriptor_list]\n",
    "blended_descriptor_list = [ descriptor_list[i] + \" - \" + tokenised_descriptor_list[i] for i in range(len(descriptor_list))]\n",
    "\n",
    "descriptor_confusion_matrix = np.zeros((len(descriptor_list), len(descriptor_list)))\n",
    "tokenised_descriptor_confusion_matrix = np.zeros((len(tokenised_descriptor_list), len(tokenised_descriptor_list)))\n",
    "blended_descriptor_confusion_matrix = np.zeros((len(blended_descriptor_list), len(blended_descriptor_list)))\n",
    "\n",
    "for i, descriptor_name in enumerate(descriptor_list):\n",
    "    descriptor_confusion_matrix[i, :] = descriptor_data[descriptor_name]['cosine_similarity_vector']\n",
    "    tokenised_descriptor_confusion_matrix[i, :] = descriptor_data[descriptor_name]['cosine_similarity_vector']\n",
    "    blended_descriptor_confusion_matrix[i, :] = descriptor_data[descriptor_name]['cosine_similarity_vector']\n",
    "\n",
    "descriptor_confusion_matrix_df = pd.DataFrame(descriptor_confusion_matrix, index=descriptor_list, columns=descriptor_list)\n",
    "tokenised_descriptor_confusion_matrix_df = pd.DataFrame(tokenised_descriptor_confusion_matrix, index=tokenised_descriptor_list, columns=tokenised_descriptor_list)\n",
    "blended_descriptor_confusion_matrix_df = pd.DataFrame(blended_descriptor_confusion_matrix, index=blended_descriptor_list, columns=blended_descriptor_list)\n",
    "\n",
    "print(tokenised_descriptor_confusion_matrix_df)"
   ]
  }
 ],
 "metadata": {
  "kernelspec": {
   "display_name": "Python 3",
   "language": "python",
   "name": "python3"
  },
  "language_info": {
   "codemirror_mode": {
    "name": "ipython",
    "version": 3
   },
   "file_extension": ".py",
   "mimetype": "text/x-python",
   "name": "python",
   "nbconvert_exporter": "python",
   "pygments_lexer": "ipython3",
   "version": "3.10.12"
  }
 },
 "nbformat": 4,
 "nbformat_minor": 2
}
